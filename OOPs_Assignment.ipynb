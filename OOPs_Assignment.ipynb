{
  "nbformat": 4,
  "nbformat_minor": 0,
  "metadata": {
    "colab": {
      "provenance": []
    },
    "kernelspec": {
      "name": "python3",
      "display_name": "Python 3"
    },
    "language_info": {
      "name": "python"
    }
  },
  "cells": [
    {
      "cell_type": "markdown",
      "source": [
        "##THEORY QUETIONS\n",
        "#1 - What is Object-Oriented Programming (OOP) ?\n",
        "#  Object-Oriented Programming (OOP)\n",
        "\n",
        "Object-Oriented Programming (OOP) is a **programming paradigm** that organizes software design around **objects**, which represent **real-world entities**.  \n",
        "It focuses on data (attributes) and behavior (methods), rather than just functions and logic.\n",
        "\n",
        "---\n",
        "\n",
        "##  Key Features of OOP\n",
        "\n",
        "1. **Class**\n",
        "   - A blueprint for creating objects.\n",
        "   - Defines attributes (data) and methods (functions).\n",
        "\n",
        "2. **Object**\n",
        "   - An instance of a class.\n",
        "   - Represents a real-world entity with state (data) and behavior (methods).\n",
        "\n",
        "3. **Encapsulation**\n",
        "   - Wrapping data (variables) and methods (functions) together into a single unit (class).\n",
        "   - Protects data by restricting direct access.\n",
        "\n",
        "4. **Abstraction**\n",
        "   - Hides complex implementation details.\n",
        "   - Shows only essential features to the user.\n",
        "\n",
        "5. **Inheritance**\n",
        "   - Allows one class (child) to inherit properties and behavior from another class (parent).\n",
        "   - Promotes **code reuse**.\n",
        "\n",
        "6. **Polymorphism**\n",
        "   - The ability of a function or method to behave differently based on context.\n",
        "   - Example: Same method name but different implementation in different classes.\n"
      ],
      "metadata": {
        "id": "AnufI26aU9yf"
      }
    },
    {
      "cell_type": "markdown",
      "source": [
        "#2 - What is a class in OOP ?\n",
        "#  Class in Object-Oriented Programming (OOP)\n",
        "\n",
        "A **Class** in OOP is a **blueprint** or **template** used to create objects.  \n",
        "It defines the **attributes (data)** and **methods (functions)** that the created objects will have.\n",
        "\n",
        "---\n",
        "\n",
        "##  Key Points about Class\n",
        "\n",
        "1. **Blueprint Concept**\n",
        "   - A class does not represent real-world data directly.\n",
        "   - Instead, it serves as a **design/plan** for creating multiple objects.\n",
        "\n",
        "2. **Attributes**\n",
        "   - Variables inside a class.\n",
        "   - Represent the **state** or **properties** of the object.\n",
        "\n",
        "3. **Methods**\n",
        "   - Functions defined inside a class.\n",
        "   - Represent the **behavior** or **actions** of the object.\n",
        "\n",
        "4. **Objects Creation**\n",
        "   - Objects are created from a class using its blueprint.\n",
        "   - Each object has its own copy of the attributes.\n",
        "\n",
        "5. **Reusability**\n",
        "   - Classes help in organizing code and reusing it efficiently.\n",
        "\n"
      ],
      "metadata": {
        "id": "iHpA4c0BWDA-"
      }
    },
    {
      "cell_type": "markdown",
      "source": [
        "#3 - What is an object in OOP ?\n",
        "\n",
        "---\n",
        "\n",
        "##  \n",
        "\n",
        "1. **Instance of a Class**\n",
        "   - An object is created from a class.\n",
        "   - Each object has its own identity, state, and behavior.\n",
        "\n",
        "2. **Identity**\n",
        "   - A unique name or reference that distinguishes one object from another.\n",
        "\n",
        "3. **State (Attributes)**\n",
        "   - Represents the data or properties stored in the object.\n",
        "   - Example: Color, brand, price.\n",
        "\n",
        "4. **Behavior (Methods)**\n",
        "   - Defines what an object can do.\n",
        "   - Example: Drive, bark, fly.\n",
        "\n",
        "5. **Multiple Objects**\n",
        "   - Many objects can be created from a single class.\n",
        "   - Each object can have different attribute values but share the same structure.\n"
      ],
      "metadata": {
        "id": "EcG8vNNsWSnP"
      }
    },
    {
      "cell_type": "markdown",
      "source": [
        "#4 -  What is the difference between abstraction and encapsulation ?\n",
        "##  Abstraction\n",
        "1. **Definition**:  \n",
        "   - Hides the implementation details and shows only the essential features to the user.  \n",
        "\n",
        "2. **Focus**:  \n",
        "   - Focuses on **what** a system does, not **how** it does it.  \n",
        "\n",
        "3. **Implementation**:  \n",
        "   - Achieved using **abstract classes** and **interfaces** (in languages like Java, C++).\n",
        "   - In Python, achieved using **abstract base classes (ABC)** or simply by defining methods that must be implemented in subclasses.  \n",
        "\n",
        "4. **Purpose**:  \n",
        "   - To reduce complexity by hiding unnecessary details.  \n",
        "\n",
        "5. **Example**:  \n",
        "   - A **car driver uses the steering wheel and pedals** without knowing the internal working of the engine.  \n",
        "\n",
        "---\n",
        "\n",
        "##  Encapsulation\n",
        "1. **Definition**:  \n",
        "   - Wrapping data (attributes) and methods (functions) together into a single unit (class).  \n",
        "\n",
        "2. **Focus**:  \n",
        "   - Focuses on **how to protect data** from unauthorized access.  \n",
        "\n",
        "3. **Implementation**:  \n",
        "   - Achieved using **access modifiers** (public, private, protected).  \n",
        "   - In Python, we use `_` (protected) and `__` (private) naming conventions.  \n",
        "\n",
        "4. **Purpose**:  \n",
        "   - To ensure data security and prevent direct modification of sensitive information.  \n",
        "\n",
        "5. **Example**:  \n",
        "   - A **car’s speed data is hidden inside the class**, and access is given only through proper methods (like `get_speed()` or `set_speed()`).  \n"
      ],
      "metadata": {
        "id": "YOkRb7ifW0U2"
      }
    },
    {
      "cell_type": "markdown",
      "source": [
        "#5 -  What are dunder methods in Python ?\n",
        "#  Dunder Methods in Python\n",
        "\n",
        "**Dunder Methods** (also called **Magic Methods** or **Special Methods**) are built-in methods in Python that **start and end with double underscores** (`__method__`).  \n",
        "\n",
        "They are used to define the behavior of objects for common operations (like addition, printing, iteration, etc.).\n",
        "\n",
        "---\n",
        "\n",
        "##  Key Points about Dunder Methods\n",
        "\n",
        "1. **Name**\n",
        "   - \"Dunder\" = **Double UNDERscore** (e.g., `__init__`, `__str__`).\n",
        "\n",
        "2. **Purpose**\n",
        "   - Allow customization of how objects behave with operators, functions, and built-in statements.\n",
        "\n",
        "3. **Automatic Invocation**\n",
        "   - These methods are called **implicitly** by Python, not directly by the programmer in most cases.\n",
        "\n",
        "4. **Categories**\n",
        "   - **Initialization & Construction** → `__init__`, `__new__`\n",
        "   - **String Representation** → `__str__`, `__repr__`\n",
        "   - **Arithmetic Operations** → `__add__`, `__sub__`, `__mul__`, etc.\n",
        "   - **Comparison Operations** → `__eq__`, `__lt__`, `__gt__`, etc.\n",
        "   - **Object Behavior** → `__len__`, `__getitem__`, `__setitem__`, `__iter__`, etc.\n",
        "\n",
        "5. **Not User-Defined Names**\n",
        "   - Reserved by Python. We should not create our own methods with double underscores unless overrid"
      ],
      "metadata": {
        "id": "yJ3VeBsgXFCo"
      }
    },
    {
      "cell_type": "markdown",
      "source": [
        "#6 - Explain the concept of inheritance in OOP\n",
        "1. **Code Reusability**\n",
        "   - Child classes reuse code from the parent class.\n",
        "   - Avoids duplication and makes code more maintainable.\n",
        "\n",
        "2. **Parent and Child Relationship**\n",
        "   - The **parent class** provides common attributes and methods.\n",
        "   - The **child class** can use them directly or override them.\n",
        "\n",
        "3. **Types of Inheritance**\n",
        "   - **Single Inheritance** → One child class inherits from one parent class.  \n",
        "   - **Multiple Inheritance** → One child class inherits from multiple parent classes.  \n",
        "   - **Multilevel Inheritance** → A child class acts as a parent for another class.  \n",
        "   - **Hierarchical Inheritance** → Multiple child classes inherit from a single parent class.  \n",
        "   - **Hybrid Inheritance** → Combination of two or more types of inheritance.  \n",
        "\n",
        "4. **Method Overriding**\n",
        "   - Child class can redefine a method from the parent class for specialized behavior.\n",
        "\n",
        "5. **Super Keyword**\n",
        "   - `super()` is used to call methods/constructors of the parent class.\n"
      ],
      "metadata": {
        "id": "2Z9IeULdXWjc"
      }
    },
    {
      "cell_type": "markdown",
      "source": [
        "#7 - What is polymorphism in OOP ?\n",
        "1. **Definition**\n",
        "   - The ability of different classes to provide different implementations of the same method or operator.\n",
        "\n",
        "2. **Focus**\n",
        "   - Focuses on **what method is called**, not on **which class it belongs to**.\n",
        "\n",
        "3. **Types of Polymorphism**\n",
        "   - **Compile-Time Polymorphism (Overloading)** → Same method name but different signatures. (Not directly supported in Python, but can be simulated using default arguments.)  \n",
        "   - **Run-Time Polymorphism (Overriding)** → Child class provides a specific implementation of a method defined in the parent class.\n",
        "\n",
        "4. **Operator Overloading**\n",
        "   - Operators like `+`, `-`, `*`, etc. can be redefined for user-defined classes using **dunder methods** (`__add__`, `__sub__`, etc.).\n",
        "\n",
        "5. **Benefits**\n",
        "   - Increases **flexibility** and **reusability** of code.  \n",
        "   - Allows functions/methods to work with objects of different classes seamlessly."
      ],
      "metadata": {
        "id": "pSk4fKmjXyRj"
      }
    },
    {
      "cell_type": "markdown",
      "source": [
        "#8 - How is encapsulation achieved in Python ?\n",
        "✨ Key Points:\n",
        "1. Encapsulation means **wrapping data (attributes) and methods** into a single unit (class).\n",
        "2. In Python, encapsulation is achieved using **naming conventions**:\n",
        "   - `public` → Accessible everywhere.  \n",
        "   - `_protected` → Accessible inside the class and subclasses (convention).  \n",
        "   - `__private` → Name mangling, makes attributes harder to access directly.\n",
        "3. Encapsulation provides **data hiding and controlled access**.\n"
      ],
      "metadata": {
        "id": "gQn9XiEXX-Y2"
      }
    },
    {
      "cell_type": "markdown",
      "source": [
        "#9 - What is a constructor in Python ?\n",
        " **Key Points:**\n",
        "\n",
        "1. A **constructor** is a **special method** used to **initialize objects** in a class.  \n",
        "2. In Python, the constructor is defined using the **`__init__`** method.  \n",
        "3. It is **automatically called** when a new object of the class is created.  \n",
        "4. The constructor can take arguments to **initialize attributes** of the object.  \n",
        "5. Helps in setting up the initial state of an object when it is created.  \n"
      ],
      "metadata": {
        "id": "g4hztvdvZ4uL"
      }
    },
    {
      "cell_type": "markdown",
      "source": [
        "#10 - What are class and static methods in Python ?\n",
        "1. **Instance Methods**  \n",
        "   - Regular methods in a class that take `self` as the first parameter.  \n",
        "   - Work with object-level data (instance attributes).  \n",
        "\n",
        "2. **Class Methods**  \n",
        "   - Defined using the **`@classmethod`** decorator.  \n",
        "   - Take `cls` as the first parameter instead of `self`.  \n",
        "   - Can access and modify **class-level attributes** (shared across all instances).  \n",
        "   - Useful for factory methods or operations affecting the entire class.  \n",
        "\n",
        "3. **Static Methods**  \n",
        "   - Defined using the **`@staticmethod`** decorator.  \n",
        "   - Do **not take `self` or `cls`**.  \n",
        "   - Behave like **regular functions** but belong to the class namespace.  \n",
        "   - Useful for utility functions related to the class but not accessing its data.  "
      ],
      "metadata": {
        "id": "XqkIm3qaauyC"
      }
    },
    {
      "cell_type": "markdown",
      "source": [
        "#11 - What is method overloading in Python ?\n",
        "1. **Method Overloading** means defining **multiple methods with the same name** but **different numbers or types of parameters**.  \n",
        "2. Python **does not support traditional method overloading** as in languages like Java or C++.  \n",
        "3. In Python, the **last defined method with the same name overrides previous definitions**.  \n",
        "4. Method overloading can be **simulated** using:\n",
        "   - **Default arguments**  \n",
        "   - **`*args` and `**kwargs`** for variable numbers of arguments  \n"
      ],
      "metadata": {
        "id": "APUlOs3Ka6jL"
      }
    },
    {
      "cell_type": "markdown",
      "source": [
        "#12 - What is method overriding in OOP ?\n",
        "1. **Method Overriding** occurs when a **child class provides a specific implementation** of a method that is already defined in its **parent class**.  \n",
        "2. It is used to **change or extend the behavior** of the parent class method in the child class.  \n",
        "3. Method overriding is a key part of **runtime polymorphism** in OOP.  \n",
        "4. The method in the child class must have the **same name, parameters, and signature** as the method in the parent class.  \n",
        "5. The child class method **overrides** the parent class method when called through the child object."
      ],
      "metadata": {
        "id": "5SVtXWhFbCyR"
      }
    },
    {
      "cell_type": "markdown",
      "source": [
        "#13 - What is a property decorator in Python ?\n",
        "1. The **`property` decorator** allows a method in a class to be accessed like an **attribute**.  \n",
        "2. It is used to define **getter, setter, and deleter methods** in a Pythonic way.  \n",
        "3. Provides **controlled access** to private or protected attributes.  \n",
        "4. Helps to **encapsulate data** while still allowing attribute-like access.  \n",
        "5. Improves **readability** and makes the code more maintainable.\n"
      ],
      "metadata": {
        "id": "lfO7ynfVbK5h"
      }
    },
    {
      "cell_type": "markdown",
      "source": [
        "#14 - Why is polymorphism important in OOP ?\n",
        "1. **Polymorphism** means \"many forms\" — the same method or operator can behave differently depending on the object or data type.  \n",
        "2. It allows **different classes to be treated uniformly** through a common interface.  \n",
        "3. Enhances **code flexibility**, allowing the same function or method to work with objects of different types.  \n",
        "4. Supports **runtime polymorphism**, enabling objects to decide which method to invoke at runtime.  \n",
        "5. Promotes **code reusability and maintainability**, reducing the need for multiple conditional statements.  \n",
        "6. Makes programs **scalable** by allowing new object types to be integrated easily without modifying existing code."
      ],
      "metadata": {
        "id": "pKWJK-u_bXUY"
      }
    },
    {
      "cell_type": "markdown",
      "source": [
        "#15 - What is an abstract class in Python ?\n",
        "1. An **abstract class** is a class that **cannot be instantiated directly**.  \n",
        "2. It serves as a **blueprint for other classes**, defining methods that must be implemented by child classes.  \n",
        "3. Contains **abstract methods**, which are declared but **do not have an implementation** in the abstract class.  \n",
        "4. Defined using the **`abc` module** and the **`@abstractmethod` decorator**.  \n",
        "5. Ensures that all **subclasses implement the required methods**, promoting consistency in design.  "
      ],
      "metadata": {
        "id": "Twm7BuKlbflK"
      }
    },
    {
      "cell_type": "markdown",
      "source": [
        "#16 - What are the advantages of OOP ?\n",
        "1. **Code Reusability**  \n",
        "   - Classes and objects allow **reuse of code** through inheritance, reducing redundancy.  \n",
        "\n",
        "2. **Modularity**  \n",
        "   - Programs are organized into **classes and objects**, making code easier to manage and understand.  \n",
        "\n",
        "3. **Encapsulation / Data Security**  \n",
        "   - Data and methods are **bundled together**.  \n",
        "   - Private or protected attributes can prevent unwanted access and modification.  \n",
        "\n",
        "4. **Flexibility through Polymorphism**  \n",
        "   - The same interface or method can work with **different object types**, improving flexibility.  \n",
        "\n",
        "5. **Easy Maintenance and Scalability**  \n",
        "   - Object-oriented design makes it **easier to update or scale programs** without affecting unrelated parts.  \n",
        "\n",
        "6. **Real-World Modeling**  \n",
        "   - Objects and classes can model **real-world entities**, making programs intuitive and relatable.  "
      ],
      "metadata": {
        "id": "ui0n3aw8bm44"
      }
    },
    {
      "cell_type": "markdown",
      "source": [
        "#17 -  What is the difference between a class variable and an instance variable ?\n",
        "1. **Class Variable:**  \n",
        "   - Defined **inside the class but outside any methods**.  \n",
        "   - **Shared by all instances** of the class.  \n",
        "   - Changing the value affects **all objects** of that class.\n",
        "\n",
        "2. **Instance Variable:**  \n",
        "   - Defined **inside a method (usually `__init__`) using `self`)**.  \n",
        "   - **Unique to each object** of the class.  \n",
        "   - Changing the value affects **only that specific object**."
      ],
      "metadata": {
        "id": "HIWn8YQGbxWY"
      }
    },
    {
      "cell_type": "markdown",
      "source": [
        "#18 - What is multiple inheritance in Python ?\n",
        "1. **Multiple Inheritance** occurs when a **child class inherits from more than one parent class**.  \n",
        "2. Allows a class to **reuse code from multiple parent classes**, combining their attributes and methods.  \n",
        "3. Python uses **Method Resolution Order (MRO)** to determine which parent’s method to execute if there are conflicts.  \n",
        "4. Multiple inheritance should be used carefully to **avoid complexity and ambiguity**.  \n",
        "\n"
      ],
      "metadata": {
        "id": "Jp28Q8Kzb6Tp"
      }
    },
    {
      "cell_type": "markdown",
      "source": [
        "#19 = Explain the purpose of ‘’__str__’ and ‘__repr__’ ‘ methods in Python\n",
        "1. **`__str__` Method:**  \n",
        "   - Provides a **user-friendly string representation** of an object.  \n",
        "   - Used by the **`print()` function** to display the object.  \n",
        "   - Should be readable and informative for end-users.\n",
        "\n",
        "2. **`__repr__` Method:**  \n",
        "   - Provides an **official string representation** of an object.  \n",
        "   - Used mainly for **developers and debugging**.  \n",
        "   - Should ideally be a valid Python expression that can recreate the object.\n",
        "\n",
        "3. **Fallback Behavior:**  \n",
        "   - If `__str__` is not defined, Python falls back to `__repr__`.  "
      ],
      "metadata": {
        "id": "9VujV2WycC9R"
      }
    },
    {
      "cell_type": "markdown",
      "source": [
        "#20 - What is the significance of the ‘super()’ function in Python ?\n",
        "1. **`super()`** is used to **call a method from the parent class**.  \n",
        "2. Allows a child class to **reuse functionality** of the parent class without explicitly naming it.  \n",
        "3. Commonly used in **constructors** to initialize parent class attributes.  \n",
        "4. Helps in **method overriding**, allowing the child to extend the parent’s behavior.  \n",
        "5. Plays an important role in **multiple inheritance**, following Python’s **Method Resolution Order (MRO)**.  "
      ],
      "metadata": {
        "id": "95vXe9MqcMZB"
      }
    },
    {
      "cell_type": "markdown",
      "source": [
        "#21 - What is the significance of the __del__ method in Python ?\n",
        "1. The `__del__` method is known as a **destructor** in Python.  \n",
        "2. It is called **automatically when an object is about to be destroyed** (i.e., garbage collected).  \n",
        "3. Used to perform **cleanup tasks**, such as:  \n",
        "   - Closing files  \n",
        "   - Releasing network resources  \n",
        "   - Releasing memory or other system resources  \n",
        "4. Helps in **resource management**, especially when dealing with external resources.  \n",
        "5. Avoid relying too heavily on `__del__` because **Python’s garbage collection timing is not guaranteed**."
      ],
      "metadata": {
        "id": "hhXLp3c-cT4p"
      }
    },
    {
      "cell_type": "markdown",
      "source": [
        "#22 - What is the difference between @staticmethod and @classmethod in Python ?\n",
        "\n",
        "\n",
        "\n",
        "1. **Static Method (`@staticmethod`)**  \n",
        "   - Does **not take `self` or `cls`** as the first parameter.  \n",
        "   - Cannot access **instance variables** or **class variables** directly.  \n",
        "   - Acts like a **regular function** inside a class namespace.  \n",
        "   - Useful for **utility or helper functions** related to the class.  \n",
        "\n",
        "2. **Class Method (`@classmethod`)**  \n",
        "   - Takes **`cls`** as the first parameter.  \n",
        "   - Can access and modify **class-level variables**.  \n",
        "   - Often used as **factory methods** or to work with **class state**.  "
      ],
      "metadata": {
        "id": "Tym6VAB5ceEQ"
      }
    },
    {
      "cell_type": "markdown",
      "source": [
        "#23 - How does polymorphism work in Python with inheritance ?\n",
        "1. **Polymorphism** allows the same method or function to behave differently depending on the **object type**.  \n",
        "2. With **inheritance**, a child class can **override a parent class method**.  \n",
        "3. When a method is called on an object, Python determines **at runtime which implementation to execute** (runtime polymorphism).  \n",
        "4. Enables writing **generic code** that can work with objects of different classes.  \n",
        "5. Supports **code reusability, flexibility, and scalability**."
      ],
      "metadata": {
        "id": "AkcH_upIcsvX"
      }
    },
    {
      "cell_type": "markdown",
      "source": [
        "#24 - What is method chaining in Python OOP ?\n",
        "1. **Method Chaining** allows calling **multiple methods on the same object in a single line**.  \n",
        "2. Achieved by designing methods to **return `self`** after performing an operation.  \n",
        "3. Makes code **more concise, readable, and fluent**.  \n",
        "4. Commonly used in classes where **multiple updates or operations** are applied to an object consecutively.\n"
      ],
      "metadata": {
        "id": "5FXdtDoEcz9_"
      }
    },
    {
      "cell_type": "markdown",
      "source": [
        "#25 -  What is the purpose of the __call__ method in Python ?\n",
        "1. The `__call__` method allows an object to be **called like a function**.  \n",
        "2. When an object defines `__call__`, it can be **invoked using parentheses** just like a regular function.  \n",
        "3. Useful for creating **function-like objects**, **decorators**, or **stateful callable classes**.  \n",
        "4. Enhances **flexibility** by combining object behavior with callable functionality.  \n"
      ],
      "metadata": {
        "id": "GkE3xp04c74k"
      }
    },
    {
      "cell_type": "markdown",
      "source": [
        "## PRACTICAL QUETIONS"
      ],
      "metadata": {
        "id": "9fCmGUfidU43"
      }
    },
    {
      "cell_type": "code",
      "source": [
        "#1 -  Create a parent class Animal with a method speak() that prints a generic message. Create a child class Dog that overrides the speak() method to print \"Bark!\"\n",
        "\n",
        "# Parent class\n",
        "class Animal:\n",
        "    def speak(self):\n",
        "        print(\"This animal makes a sound\")\n",
        "\n",
        "# Child class\n",
        "class Dog(Animal):\n",
        "    def speak(self):\n",
        "        print(\"Bark!\")\n",
        "\n",
        "# Creating objects\n",
        "generic_animal = Animal()\n",
        "generic_animal.speak()  # Output: This animal makes a sound\n",
        "\n",
        "dog = Dog()\n",
        "dog.speak()             # Output: Bark!\n"
      ],
      "metadata": {
        "colab": {
          "base_uri": "https://localhost:8080/"
        },
        "id": "rMqmmStmdaNY",
        "outputId": "5bc28c5d-aae1-4d4f-c7d9-b9b265f0d153"
      },
      "execution_count": 1,
      "outputs": [
        {
          "output_type": "stream",
          "name": "stdout",
          "text": [
            "This animal makes a sound\n",
            "Bark!\n"
          ]
        }
      ]
    },
    {
      "cell_type": "code",
      "source": [
        "#2 -  Write a program to create an abstract class Shape with a method area(). Derive classes Circle and Rectangle from it and implement the area() method in both\n",
        "\n",
        "from abc import ABC, abstractmethod\n",
        "\n",
        "# Abstract class\n",
        "class Shape(ABC):\n",
        "    @abstractmethod\n",
        "    def area(self):\n",
        "        pass  # Abstract method, must be implemented by child classes\n",
        "\n",
        "# Derived class: Circle\n",
        "class Circle(Shape):\n",
        "    def __init__(self, radius):\n",
        "        self.radius = radius\n",
        "\n",
        "    def area(self):\n",
        "        return 3.14 * self.radius ** 2\n",
        "\n",
        "# Derived class: Rectangle\n",
        "class Rectangle(Shape):\n",
        "    def __init__(self, length, width):\n",
        "        self.length = length\n",
        "        self.width = width\n",
        "\n",
        "    def area(self):\n",
        "        return self.length * self.width\n",
        "\n",
        "# Creating objects\n",
        "circle = Circle(5)\n",
        "rectangle = Rectangle(4, 6)\n",
        "\n",
        "print(\"Area of Circle:\", circle.area())       # Output: 78.5\n",
        "print(\"Area of Rectangle:\", rectangle.area()) # Output: 24\n"
      ],
      "metadata": {
        "colab": {
          "base_uri": "https://localhost:8080/"
        },
        "id": "_8-nqq7Jd6Ml",
        "outputId": "29f4ef08-2358-4040-f856-4e84ea65d823"
      },
      "execution_count": 2,
      "outputs": [
        {
          "output_type": "stream",
          "name": "stdout",
          "text": [
            "Area of Circle: 78.5\n",
            "Area of Rectangle: 24\n"
          ]
        }
      ]
    },
    {
      "cell_type": "code",
      "source": [
        "#3 -  Implement a multi-level inheritance scenario where a class Vehicle has an attribute type. Derive a class Car and further derive a class ElectricCar that adds a battery attribute\n",
        "\n",
        "# Base class\n",
        "class Vehicle:\n",
        "    def __init__(self, vehicle_type):\n",
        "        self.vehicle_type = vehicle_type\n",
        "\n",
        "    def show_type(self):\n",
        "        print(f\"Vehicle type: {self.vehicle_type}\")\n",
        "\n",
        "# Derived class: Car\n",
        "class Car(Vehicle):\n",
        "    def __init__(self, vehicle_type, brand):\n",
        "        super().__init__(vehicle_type)  # Initialize Vehicle attributes\n",
        "        self.brand = brand\n",
        "\n",
        "    def show_brand(self):\n",
        "        print(f\"Car brand: {self.brand}\")\n",
        "\n",
        "# Derived class: ElectricCar\n",
        "class ElectricCar(Car):\n",
        "    def __init__(self, vehicle_type, brand, battery):\n",
        "        super().__init__(vehicle_type, brand)  # Initialize Car attributes\n",
        "        self.battery = battery\n",
        "\n",
        "    def show_battery(self):\n",
        "        print(f\"Battery capacity: {self.battery} kWh\")\n",
        "\n",
        "# Creating an object of ElectricCar\n",
        "my_electric_car = ElectricCar(\"Car\", \"Tesla\", 100)\n",
        "\n",
        "# Accessing attributes and methods\n",
        "my_electric_car.show_type()     # Output: Vehicle type: Car\n",
        "my_electric_car.show_brand()    # Output: Car brand: Tesla\n",
        "my_electric_car.show_battery()  # Output: Battery capacity: 100 kWh\n"
      ],
      "metadata": {
        "colab": {
          "base_uri": "https://localhost:8080/"
        },
        "id": "72kx1SVleISW",
        "outputId": "6c63264f-4f37-4957-d96a-0640a9e5c02f"
      },
      "execution_count": 3,
      "outputs": [
        {
          "output_type": "stream",
          "name": "stdout",
          "text": [
            "Vehicle type: Car\n",
            "Car brand: Tesla\n",
            "Battery capacity: 100 kWh\n"
          ]
        }
      ]
    },
    {
      "cell_type": "code",
      "source": [
        "#4 -  Demonstrate polymorphism by creating a base class Bird with a method fly(). Create two derived classes Sparrow and Penguin that override the fly() method\n",
        "\n",
        "# Base class\n",
        "class Bird:\n",
        "    def fly(self):\n",
        "        print(\"Some birds can fly\")\n",
        "\n",
        "# Derived class: Sparrow\n",
        "class Sparrow(Bird):\n",
        "    def fly(self):\n",
        "        print(\"Sparrow can fly high\")\n",
        "\n",
        "# Derived class: Penguin\n",
        "class Penguin(Bird):\n",
        "    def fly(self):\n",
        "        print(\"Penguin cannot fly\")\n",
        "\n",
        "# Creating objects\n",
        "birds = [Sparrow(), Penguin()]\n",
        "\n",
        "# Demonstrating polymorphism\n",
        "for bird in birds:\n",
        "    bird.fly()\n",
        "# Output:\n",
        "# Sparrow can fly high\n",
        "# Penguin cannot fly\n"
      ],
      "metadata": {
        "colab": {
          "base_uri": "https://localhost:8080/"
        },
        "id": "K4NEQTFGeTUC",
        "outputId": "6324e42e-0856-417f-ac0d-f4e31db26cc5"
      },
      "execution_count": 4,
      "outputs": [
        {
          "output_type": "stream",
          "name": "stdout",
          "text": [
            "Sparrow can fly high\n",
            "Penguin cannot fly\n"
          ]
        }
      ]
    },
    {
      "cell_type": "code",
      "source": [
        "#5 - Write a program to demonstrate encapsulation by creating a class BankAccount with private attributes balance and methods to deposit, withdraw, and check balance\n",
        "\n",
        "# Class demonstrating encapsulation\n",
        "class BankAccount:\n",
        "    def __init__(self, balance):\n",
        "        self.__balance = balance  # Private attribute\n",
        "\n",
        "    # Method to deposit money\n",
        "    def deposit(self, amount):\n",
        "        if amount > 0:\n",
        "            self.__balance += amount\n",
        "            print(f\"Deposited: ${amount}\")\n",
        "        else:\n",
        "            print(\"Deposit amount must be positive\")\n",
        "\n",
        "    # Method to withdraw money\n",
        "    def withdraw(self, amount):\n",
        "        if 0 < amount <= self.__balance:\n",
        "            self.__balance -= amount\n",
        "            print(f\"Withdrawn: ${amount}\")\n",
        "        else:\n",
        "            print(\"Insufficient balance or invalid amount\")\n",
        "\n",
        "    # Method to check balance\n",
        "    def get_balance(self):\n",
        "        return self.__balance\n",
        "\n",
        "# Creating an object\n",
        "account = BankAccount(1000)\n",
        "\n",
        "# Using methods\n",
        "account.deposit(500)          # Deposited: $500\n",
        "account.withdraw(200)         # Withdrawn: $200\n",
        "print(\"Current balance:\", account.get_balance())  # Current balance: 1300\n",
        "\n",
        "# Trying to access private attribute directly\n",
        "# print(account.__balance)  # This will raise an AttributeError\n"
      ],
      "metadata": {
        "colab": {
          "base_uri": "https://localhost:8080/"
        },
        "id": "UaIDh6c2ei4L",
        "outputId": "a200b388-11b1-4c6b-9506-eb6fe16a27a2"
      },
      "execution_count": 5,
      "outputs": [
        {
          "output_type": "stream",
          "name": "stdout",
          "text": [
            "Deposited: $500\n",
            "Withdrawn: $200\n",
            "Current balance: 1300\n"
          ]
        }
      ]
    },
    {
      "cell_type": "code",
      "source": [
        "#6 - Demonstrate runtime polymorphism using a method play() in a base class Instrument. Derive classes Guitar and Piano that implement their own version of play()\n",
        "\n",
        "# Base class\n",
        "class Instrument:\n",
        "    def play(self):\n",
        "        print(\"Some instrument is being played\")\n",
        "\n",
        "# Derived class: Guitar\n",
        "class Guitar(Instrument):\n",
        "    def play(self):\n",
        "        print(\"Guitar is strumming chords\")\n",
        "\n",
        "# Derived class: Piano\n",
        "class Piano(Instrument):\n",
        "    def play(self):\n",
        "        print(\"Piano is playing a melody\")\n",
        "\n",
        "# Creating objects\n",
        "instruments = [Guitar(), Piano()]\n",
        "\n",
        "# Demonstrating runtime polymorphism\n",
        "for instrument in instruments:\n",
        "    instrument.play()\n",
        "# Output:\n",
        "# Guitar is strumming chords\n",
        "# Piano is playing a melody\n"
      ],
      "metadata": {
        "colab": {
          "base_uri": "https://localhost:8080/"
        },
        "id": "hpbdXscSetso",
        "outputId": "1843f153-7045-44f8-c7d1-36bf2f2987d7"
      },
      "execution_count": 6,
      "outputs": [
        {
          "output_type": "stream",
          "name": "stdout",
          "text": [
            "Guitar is strumming chords\n",
            "Piano is playing a melody\n"
          ]
        }
      ]
    },
    {
      "cell_type": "code",
      "source": [
        "#7 -  Create a class MathOperations with a class method add_numbers() to add two numbers and a static method subtract_numbers() to subtract two numbers\n",
        "\n",
        "# Class demonstrating class and static methods\n",
        "class MathOperations:\n",
        "    # Class method to add two numbers\n",
        "    @classmethod\n",
        "    def add_numbers(cls, a, b):\n",
        "        return a + b\n",
        "\n",
        "    # Static method to subtract two numbers\n",
        "    @staticmethod\n",
        "    def subtract_numbers(a, b):\n",
        "        return a - b\n",
        "\n",
        "# Using class method\n",
        "sum_result = MathOperations.add_numbers(10, 5)\n",
        "print(\"Sum:\", sum_result)  # Output: Sum: 15\n",
        "\n",
        "# Using static method\n",
        "diff_result = MathOperations.subtract_numbers(10, 5)\n",
        "print(\"Difference:\", diff_result)  # Output: Difference: 5\n"
      ],
      "metadata": {
        "colab": {
          "base_uri": "https://localhost:8080/"
        },
        "id": "P6EbhdrZe3v8",
        "outputId": "693fc82b-d92f-46ea-9dd5-4ada0d9b4e50"
      },
      "execution_count": 7,
      "outputs": [
        {
          "output_type": "stream",
          "name": "stdout",
          "text": [
            "Sum: 15\n",
            "Difference: 5\n"
          ]
        }
      ]
    },
    {
      "cell_type": "code",
      "source": [
        "#8 -  Implement a class Person with a class method to count the total number of persons created\n",
        "\n",
        "# Class demonstrating class method to count instances\n",
        "class Person:\n",
        "    # Class variable to keep track of total persons\n",
        "    total_persons = 0\n",
        "\n",
        "    def __init__(self, name, age):\n",
        "        self.name = name\n",
        "        self.age = age\n",
        "        # Increment the class variable whenever a new object is created\n",
        "        Person.total_persons += 1\n",
        "\n",
        "    # Class method to get total number of persons\n",
        "    @classmethod\n",
        "    def get_total_persons(cls):\n",
        "        return f\"Total persons created: {cls.total_persons}\"\n",
        "\n",
        "# Creating Person objects\n",
        "p1 = Person(\"Alice\", 25)\n",
        "p2 = Person(\"Bob\", 30)\n",
        "p3 = Person(\"Charlie\", 22)\n",
        "\n",
        "# Using class method\n",
        "print(Person.get_total_persons())  # Output: Total persons created: 3\n"
      ],
      "metadata": {
        "colab": {
          "base_uri": "https://localhost:8080/"
        },
        "id": "qJ-74tIYe_ux",
        "outputId": "9f5f2216-0518-47b4-f160-c3666f509ceb"
      },
      "execution_count": 8,
      "outputs": [
        {
          "output_type": "stream",
          "name": "stdout",
          "text": [
            "Total persons created: 3\n"
          ]
        }
      ]
    },
    {
      "cell_type": "code",
      "source": [
        "#9 - Write a class Fraction with attributes numerator and denominator. Override the str method to display the fraction as \"numerator/denominator\"\n",
        "\n",
        "# Class demonstrating __str__ method\n",
        "class Fraction:\n",
        "    def __init__(self, numerator, denominator):\n",
        "        self.numerator = numerator\n",
        "        self.denominator = denominator\n",
        "\n",
        "    # Override __str__ to display fraction as \"numerator/denominator\"\n",
        "    def __str__(self):\n",
        "        return f\"{self.numerator}/{self.denominator}\"\n",
        "\n",
        "# Creating Fraction objects\n",
        "f1 = Fraction(3, 4)\n",
        "f2 = Fraction(5, 8)\n",
        "\n",
        "# Printing objects\n",
        "print(f1)  # Output: 3/4\n",
        "print(f2)  # Output: 5/8\n"
      ],
      "metadata": {
        "colab": {
          "base_uri": "https://localhost:8080/"
        },
        "id": "mjmnTa8OfGZW",
        "outputId": "e79e8980-4e38-4380-cdfb-d879bcd3a7db"
      },
      "execution_count": 9,
      "outputs": [
        {
          "output_type": "stream",
          "name": "stdout",
          "text": [
            "3/4\n",
            "5/8\n"
          ]
        }
      ]
    },
    {
      "cell_type": "code",
      "source": [
        "#10 - Demonstrate operator overloading by creating a class Vector and overriding the add method to add two vectors\n",
        "\n",
        "# Class demonstrating operator overloading\n",
        "class Vector:\n",
        "    def __init__(self, x, y):\n",
        "        self.x = x\n",
        "        self.y = y\n",
        "\n",
        "    # Overriding the + operator\n",
        "    def __add__(self, other):\n",
        "        return Vector(self.x + other.x, self.y + other.y)\n",
        "\n",
        "    # Overriding __str__ for readable output\n",
        "    def __str__(self):\n",
        "        return f\"Vector({self.x}, {self.y})\"\n",
        "\n",
        "# Creating Vector objects\n",
        "v1 = Vector(2, 3)\n",
        "v2 = Vector(4, 5)\n",
        "\n",
        "# Adding vectors using overloaded + operator\n",
        "v3 = v1 + v2\n",
        "\n",
        "# Printing the result\n",
        "print(v3)  # Output: Vector(6, 8)\n"
      ],
      "metadata": {
        "colab": {
          "base_uri": "https://localhost:8080/"
        },
        "id": "V7OZnNcMfPY2",
        "outputId": "3e87b1e9-4770-474e-cca2-c7a29f639ec1"
      },
      "execution_count": 11,
      "outputs": [
        {
          "output_type": "stream",
          "name": "stdout",
          "text": [
            "Vector(6, 8)\n"
          ]
        }
      ]
    },
    {
      "cell_type": "code",
      "source": [
        "#11 -  Create a class Person with attributes name and age. Add a method greet() that prints \"Hello, my name is {name} and I am {age} years old.\"\n",
        "\n",
        "# Class Person with greet method\n",
        "class Person:\n",
        "    def __init__(self, name, age):\n",
        "        self.name = name\n",
        "        self.age = age\n",
        "\n",
        "    # Method to greet\n",
        "    def greet(self):\n",
        "        print(f\"Hello, my name is {self.name} and I am {self.age} years old.\")\n",
        "\n",
        "# Creating Person objects\n",
        "p1 = Person(\"Alice\", 25)\n",
        "p2 = Person(\"Bob\", 30)\n",
        "\n",
        "# Using greet method\n",
        "p1.greet()  # Output: Hello, my name is Alice and I am 25 years old.\n",
        "p2.greet()  # Output: Hello, my name is Bob and I am 30 years old.\n",
        "\n"
      ],
      "metadata": {
        "colab": {
          "base_uri": "https://localhost:8080/"
        },
        "id": "YOeI6e8nfYQb",
        "outputId": "13a43435-ced7-4a42-c727-b6b994b2e086"
      },
      "execution_count": 12,
      "outputs": [
        {
          "output_type": "stream",
          "name": "stdout",
          "text": [
            "Hello, my name is Alice and I am 25 years old.\n",
            "Hello, my name is Bob and I am 30 years old.\n"
          ]
        }
      ]
    },
    {
      "cell_type": "code",
      "source": [
        "#12 - Implement a class Student with attributes name and grades. Create a method average_grade() to compute the average of the grades.\n",
        "\n",
        "# Class Student with grades and average computation\n",
        "class Student:\n",
        "    def __init__(self, name, grades):\n",
        "        self.name = name\n",
        "        self.grades = grades  # List of grades\n",
        "\n",
        "    # Method to compute average grade\n",
        "    def average_grade(self):\n",
        "        if len(self.grades) == 0:\n",
        "            return 0\n",
        "        return sum(self.grades) / len(self.grades)\n",
        "\n",
        "# Creating Student objects\n",
        "s1 = Student(\"Alice\", [85, 90, 78])\n",
        "s2 = Student(\"Bob\", [70, 88, 92, 85])\n",
        "\n",
        "# Computing and printing average grades\n",
        "print(f\"{s1.name}'s average grade: {s1.average_grade():.2f}\")  # Output: 84.33\n",
        "print(f\"{s2.name}'s average grade: {s2.average_grade():.2f}\")  # Output: 83.75\n"
      ],
      "metadata": {
        "colab": {
          "base_uri": "https://localhost:8080/"
        },
        "id": "Wrgip-_Hf1pm",
        "outputId": "6345d888-fd94-4e8c-e936-90249b8844eb"
      },
      "execution_count": 13,
      "outputs": [
        {
          "output_type": "stream",
          "name": "stdout",
          "text": [
            "Alice's average grade: 84.33\n",
            "Bob's average grade: 83.75\n"
          ]
        }
      ]
    },
    {
      "cell_type": "code",
      "source": [
        "#13 -  Create a class Rectangle with methods set_dimensions() to set the dimensions and area() to calculate the area\n",
        "\n",
        "# Class Rectangle\n",
        "class Rectangle:\n",
        "    def __init__(self):\n",
        "        self.length = 0\n",
        "        self.width = 0\n",
        "\n",
        "    # Method to set dimensions\n",
        "    def set_dimensions(self, length, width):\n",
        "        self.length = length\n",
        "        self.width = width\n",
        "\n",
        "    # Method to calculate area\n",
        "    def area(self):\n",
        "        return self.length * self.width\n",
        "\n",
        "# Creating a Rectangle object\n",
        "rect = Rectangle()\n",
        "\n",
        "# Setting dimensions\n",
        "rect.set_dimensions(5, 10)\n",
        "\n",
        "# Calculating and printing area\n",
        "print(\"Area of Rectangle:\", rect.area())  # Output: 50\n"
      ],
      "metadata": {
        "colab": {
          "base_uri": "https://localhost:8080/"
        },
        "id": "eFunPnrkgALh",
        "outputId": "6b267117-1e2b-463b-9d33-892048708bf8"
      },
      "execution_count": 14,
      "outputs": [
        {
          "output_type": "stream",
          "name": "stdout",
          "text": [
            "Area of Rectangle: 50\n"
          ]
        }
      ]
    },
    {
      "cell_type": "code",
      "source": [
        "#14 - Create a class Employee with a method calculate_salary() that computes the salary based on hours worked and hourly rate. Create a derived class Manager that adds a bonus to the salary\n",
        "\n",
        "# Base class\n",
        "class Employee:\n",
        "    def __init__(self, name, hours_worked, hourly_rate):\n",
        "        self.name = name\n",
        "        self.hours_worked = hours_worked\n",
        "        self.hourly_rate = hourly_rate\n",
        "\n",
        "    # Method to calculate salary\n",
        "    def calculate_salary(self):\n",
        "        return self.hours_worked * self.hourly_rate\n",
        "\n",
        "# Derived class\n",
        "class Manager(Employee):\n",
        "    def __init__(self, name, hours_worked, hourly_rate, bonus):\n",
        "        super().__init__(name, hours_worked, hourly_rate)  # Initialize Employee attributes\n",
        "        self.bonus = bonus\n",
        "\n",
        "    # Override calculate_salary to include bonus\n",
        "    def calculate_salary(self):\n",
        "        base_salary = super().calculate_salary()\n",
        "        return base_salary + self.bonus\n",
        "\n",
        "# Creating objects\n",
        "emp = Employee(\"Alice\", 40, 20)\n",
        "mgr = Manager(\"Bob\", 40, 25, 500)\n",
        "\n",
        "# Calculating and printing salaries\n",
        "print(f\"{emp.name}'s salary: ${emp.calculate_salary()}\")  # Output: 800\n",
        "print(f\"{mgr.name}'s salary: ${mgr.calculate_salary()}\")  # Output: 1500\n"
      ],
      "metadata": {
        "colab": {
          "base_uri": "https://localhost:8080/"
        },
        "id": "9_9XRmdggJB2",
        "outputId": "748a8e95-ffda-4b6f-c346-c6598a2e4866"
      },
      "execution_count": 15,
      "outputs": [
        {
          "output_type": "stream",
          "name": "stdout",
          "text": [
            "Alice's salary: $800\n",
            "Bob's salary: $1500\n"
          ]
        }
      ]
    },
    {
      "cell_type": "code",
      "source": [
        "#15 - Create a class Product with attributes name, price, and quantity. Implement a method total_price() that calculates the total price of the product.\n",
        "\n",
        "# Class Product\n",
        "class Product:\n",
        "    def __init__(self, name, price, quantity):\n",
        "        self.name = name\n",
        "        self.price = price\n",
        "        self.quantity = quantity\n",
        "\n",
        "    # Method to calculate total price\n",
        "    def total_price(self):\n",
        "        return self.price * self.quantity\n",
        "\n",
        "# Creating Product objects\n",
        "p1 = Product(\"Laptop\", 800, 2)\n",
        "p2 = Product(\"Mouse\", 25, 4)\n",
        "\n",
        "# Calculating and printing total price\n",
        "print(f\"Total price of {p1.name}: ${p1.total_price()}\")  # Output: 1600\n",
        "print(f\"Total price of {p2.name}: ${p2.total_price()}\")  # Output: 100\n"
      ],
      "metadata": {
        "colab": {
          "base_uri": "https://localhost:8080/"
        },
        "id": "g0bnlmQrgTsS",
        "outputId": "c5e05171-17b9-4066-8cf2-1315b1115b75"
      },
      "execution_count": 16,
      "outputs": [
        {
          "output_type": "stream",
          "name": "stdout",
          "text": [
            "Total price of Laptop: $1600\n",
            "Total price of Mouse: $100\n"
          ]
        }
      ]
    },
    {
      "cell_type": "code",
      "source": [
        "#16 - Create a class Animal with an abstract method sound(). Create two derived classes Cow and Sheep that implement the sound() method.\n",
        "\n",
        "from abc import ABC, abstractmethod\n",
        "\n",
        "# Abstract class\n",
        "class Animal(ABC):\n",
        "    @abstractmethod\n",
        "    def sound(self):\n",
        "        pass  # Abstract method\n",
        "\n",
        "# Derived class: Cow\n",
        "class Cow(Animal):\n",
        "    def sound(self):\n",
        "        print(\"Moo\")\n",
        "\n",
        "# Derived class: Sheep\n",
        "class Sheep(Animal):\n",
        "    def sound(self):\n",
        "        print(\"Baa\")\n",
        "\n",
        "# Creating objects\n",
        "cow = Cow()\n",
        "sheep = Sheep()\n",
        "\n",
        "# Calling sound method\n",
        "cow.sound()    # Output: Moo\n",
        "sheep.sound()  # Output: Baa\n"
      ],
      "metadata": {
        "colab": {
          "base_uri": "https://localhost:8080/"
        },
        "id": "oSEsLvJngl6w",
        "outputId": "4dbe470b-1249-4227-a4c2-fc71ac2fb55e"
      },
      "execution_count": 17,
      "outputs": [
        {
          "output_type": "stream",
          "name": "stdout",
          "text": [
            "Moo\n",
            "Baa\n"
          ]
        }
      ]
    },
    {
      "cell_type": "code",
      "source": [
        "#17 - Create a class Book with attributes title, author, and year_published. Add a method get_book_info() that returns a formatted string with the book's details.\n",
        "\n",
        "# Class Book\n",
        "class Book:\n",
        "    def __init__(self, title, author, year_published):\n",
        "        self.title = title\n",
        "        self.author = author\n",
        "        self.year_published = year_published\n",
        "\n",
        "    # Method to return book information\n",
        "    def get_book_info(self):\n",
        "        return f\"'{self.title}' by {self.author}, published in {self.year_published}\"\n",
        "\n",
        "# Creating Book objects\n",
        "book1 = Book(\"To Kill a Mockingbird\", \"Harper Lee\", 1960)\n",
        "book2 = Book(\"1984\", \"George Orwell\", 1949)\n",
        "\n",
        "# Using get_book_info method\n",
        "print(book1.get_book_info())  # Output: 'To Kill a Mockingbird' by Harper Lee, published in 1960\n",
        "print(book2.get_book_info())  # Output: '1984' by George Orwell, published in 1949\n"
      ],
      "metadata": {
        "colab": {
          "base_uri": "https://localhost:8080/"
        },
        "id": "WR6cKr91gvO2",
        "outputId": "ea6386b4-3ea0-401b-977b-89dc8b4bf501"
      },
      "execution_count": 18,
      "outputs": [
        {
          "output_type": "stream",
          "name": "stdout",
          "text": [
            "'To Kill a Mockingbird' by Harper Lee, published in 1960\n",
            "'1984' by George Orwell, published in 1949\n"
          ]
        }
      ]
    },
    {
      "cell_type": "code",
      "source": [
        "#18 -  Create a class House with attributes address and price. Create a derived class Mansion that adds an attribute number_of_rooms.\n",
        "\n",
        "# Base class\n",
        "class House:\n",
        "    def __init__(self, address, price):\n",
        "        self.address = address\n",
        "        self.price = price\n",
        "\n",
        "    def show_info(self):\n",
        "        print(f\"Address: {self.address}\")\n",
        "        print(f\"Price: ${self.price}\")\n",
        "\n",
        "# Derived class\n",
        "class Mansion(House):\n",
        "    def __init__(self, address, price, number_of_rooms):\n",
        "        super().__init__(address, price)  # Initialize House attributes\n",
        "        self.number_of_rooms = number_of_rooms\n",
        "\n",
        "    def show_info(self):\n",
        "        super().show_info()  # Display base class info\n",
        "        print(f\"Number of rooms: {self.number_of_rooms}\")\n",
        "\n",
        "# Creating objects\n",
        "house = House(\"123 Maple Street\", 250000)\n",
        "mansion = Mansion(\"456 Oak Avenue\", 1500000, 10)\n",
        "\n",
        "# Displaying information\n",
        "print(\"House Info:\")\n",
        "house.show_info()\n",
        "print(\"\\nMansion Info:\")\n",
        "mansion.show_info()\n"
      ],
      "metadata": {
        "colab": {
          "base_uri": "https://localhost:8080/"
        },
        "id": "bjfVq8s2g5Je",
        "outputId": "8c7e0026-f83a-4611-dced-1ed946b7d937"
      },
      "execution_count": 21,
      "outputs": [
        {
          "output_type": "stream",
          "name": "stdout",
          "text": [
            "House Info:\n",
            "Address: 123 Maple Street\n",
            "Price: $250000\n",
            "\n",
            "Mansion Info:\n",
            "Address: 456 Oak Avenue\n",
            "Price: $1500000\n",
            "Number of rooms: 10\n"
          ]
        }
      ]
    },
    {
      "cell_type": "code",
      "source": [],
      "metadata": {
        "id": "pLEHzRvvg9JR"
      },
      "execution_count": null,
      "outputs": []
    }
  ]
}